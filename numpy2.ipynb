{
 "cells": [
  {
   "cell_type": "code",
   "execution_count": 6,
   "id": "f3085a40-1b04-4bfd-92dd-a2cf980c49aa",
   "metadata": {},
   "outputs": [],
   "source": [
    "import numpy as np"
   ]
  },
  {
   "cell_type": "code",
   "execution_count": 13,
   "id": "f1b77e40-c3c8-458f-b114-34dc5f9d110b",
   "metadata": {},
   "outputs": [
    {
     "name": "stdout",
     "output_type": "stream",
     "text": [
      "0.0\n"
     ]
    }
   ],
   "source": [
    "#list\n",
    "from time import process_time\n",
    "python_list=[i for i in range(10000)]\n",
    "start_time=process_time()\n",
    "python_list=[i+5 for i in python_list]\n",
    "end_time=process_time()\n",
    "print(end_time - start_time)"
   ]
  },
  {
   "cell_type": "code",
   "execution_count": 14,
   "id": "0220c08b-46b6-42f4-9e71-aed55e40d507",
   "metadata": {},
   "outputs": [
    {
     "name": "stdout",
     "output_type": "stream",
     "text": [
      "0.0\n"
     ]
    }
   ],
   "source": [
    "np_array=np.array([i for i in range(10000)])\n",
    "start_time=process_time()\n",
    "np_array += 5\n",
    "end_time=process_time()\n",
    "print(end_time - start_time)"
   ]
  },
  {
   "cell_type": "code",
   "execution_count": 18,
   "id": "1ed21ee3-b7e9-4827-a9d6-fd759bd74d7c",
   "metadata": {},
   "outputs": [
    {
     "name": "stdout",
     "output_type": "stream",
     "text": [
      "[1, 2, 3, 5, 4]\n"
     ]
    },
    {
     "data": {
      "text/plain": [
       "list"
      ]
     },
     "execution_count": 18,
     "metadata": {},
     "output_type": "execute_result"
    }
   ],
   "source": [
    "list1=[1,2,3,5,4]\n",
    "print(list1)\n",
    "type(list1)"
   ]
  },
  {
   "cell_type": "code",
   "execution_count": 19,
   "id": "5d53a49f-e6e8-483b-b6b1-1f0a8e4af679",
   "metadata": {},
   "outputs": [
    {
     "name": "stdout",
     "output_type": "stream",
     "text": [
      "[1 2 3 4 5]\n"
     ]
    },
    {
     "data": {
      "text/plain": [
       "numpy.ndarray"
      ]
     },
     "execution_count": 19,
     "metadata": {},
     "output_type": "execute_result"
    }
   ],
   "source": [
    "np_array=np.array([1,2,3,4,5])\n",
    "print(np_array)\n",
    "type(np_array)"
   ]
  },
  {
   "cell_type": "code",
   "execution_count": 21,
   "id": "eee49f6b-c919-43b8-990b-2f020dafca28",
   "metadata": {},
   "outputs": [
    {
     "name": "stdout",
     "output_type": "stream",
     "text": [
      "[1 2 3 4 6]\n"
     ]
    }
   ],
   "source": [
    "a=np.array([1,2,3,4,6])\n",
    "print(a)"
   ]
  },
  {
   "cell_type": "code",
   "execution_count": 24,
   "id": "253ab3b0-064f-46ec-b936-142260322c8e",
   "metadata": {},
   "outputs": [
    {
     "name": "stdout",
     "output_type": "stream",
     "text": [
      "[[1 2 3 4]\n",
      " [5 6 7 8]]\n",
      "<class 'numpy.ndarray'>\n",
      "(2, 4)\n",
      "2\n"
     ]
    }
   ],
   "source": [
    "b=np.array([(1,2,3,4),(5,6,7,8)])\n",
    "print(b)\n",
    "print(type(b))\n",
    "print(b.shape)\n",
    "print(b.ndim)"
   ]
  },
  {
   "cell_type": "code",
   "execution_count": 27,
   "id": "51cd6d25-93cd-4f0e-a201-b57c45f5d18b",
   "metadata": {},
   "outputs": [
    {
     "name": "stdout",
     "output_type": "stream",
     "text": [
      "[[1 2 4]\n",
      " [3 5 6]\n",
      " [2 7 9]\n",
      " [3 6 8]]\n",
      "(4, 3)\n",
      "2\n"
     ]
    }
   ],
   "source": [
    "c=np.array([(1,2,4),(3,5,6),(2,7,9),(3,6,8)],dtype='int')\n",
    "print(c)\n",
    "print(c.shape)\n",
    "print(c.ndim)\n"
   ]
  },
  {
   "cell_type": "code",
   "execution_count": 30,
   "id": "fbe3ad35-bfa4-4cfe-a963-5192d976a95c",
   "metadata": {},
   "outputs": [
    {
     "name": "stdout",
     "output_type": "stream",
     "text": [
      "[[0 0 0]\n",
      " [0 0 0]\n",
      " [0 0 0]]\n"
     ]
    }
   ],
   "source": [
    "d=np.zeros((3,3),dtype='int')\n",
    "print(d)"
   ]
  },
  {
   "cell_type": "code",
   "execution_count": 31,
   "id": "b8ca902b-060b-4a4c-be00-c719d2970f1a",
   "metadata": {},
   "outputs": [
    {
     "name": "stdout",
     "output_type": "stream",
     "text": [
      "[[1 1 1]\n",
      " [1 1 1]\n",
      " [1 1 1]]\n"
     ]
    }
   ],
   "source": [
    "e=np.ones((3,3),dtype='int')\n",
    "print(e)"
   ]
  },
  {
   "cell_type": "code",
   "execution_count": 33,
   "id": "1270e3fd-479c-4452-8a33-35bbced0d7de",
   "metadata": {},
   "outputs": [
    {
     "name": "stdout",
     "output_type": "stream",
     "text": [
      "[[7 7 7 7 7]\n",
      " [7 7 7 7 7]\n",
      " [7 7 7 7 7]\n",
      " [7 7 7 7 7]]\n"
     ]
    }
   ],
   "source": [
    "f=np.full((4,5),7)\n",
    "print(f)"
   ]
  },
  {
   "cell_type": "code",
   "execution_count": 35,
   "id": "552190f7-78ca-4f9a-a74f-9a9ef7e84454",
   "metadata": {},
   "outputs": [
    {
     "name": "stdout",
     "output_type": "stream",
     "text": [
      "[[1 0 0]\n",
      " [0 1 0]\n",
      " [0 0 1]]\n"
     ]
    }
   ],
   "source": [
    "g=np.eye((3),dtype='int')\n",
    "print(g)"
   ]
  },
  {
   "cell_type": "code",
   "execution_count": 40,
   "id": "7d7661a9-932a-4e22-aca0-952cc3ec0dcb",
   "metadata": {},
   "outputs": [
    {
     "name": "stdout",
     "output_type": "stream",
     "text": [
      "[[0.84984436 0.08301716 0.74209433 0.13408081]\n",
      " [0.46274437 0.73487757 0.50397213 0.46502446]\n",
      " [0.75578918 0.19515533 0.55628378 0.54886607]\n",
      " [0.80814536 0.64774781 0.20743807 0.54501779]\n",
      " [0.41723885 0.1219144  0.18074778 0.26327635]]\n"
     ]
    }
   ],
   "source": [
    "h=np.random.random((5,4))\n",
    "print(h)"
   ]
  },
  {
   "cell_type": "code",
   "execution_count": 42,
   "id": "36038e34-11ae-408c-920c-c1dd675d57fb",
   "metadata": {},
   "outputs": [
    {
     "name": "stdout",
     "output_type": "stream",
     "text": [
      "[[92 40 37 65]\n",
      " [68 10 17 36]\n",
      " [64 73 86 82]\n",
      " [78 58 37 28]\n",
      " [15 64 59 54]]\n"
     ]
    }
   ],
   "source": [
    "i=np.random.randint(10,100,(5,4))\n",
    "print(i)"
   ]
  },
  {
   "cell_type": "code",
   "execution_count": 43,
   "id": "40fd47ef-d570-4e32-9862-5e8c1ab9fc62",
   "metadata": {},
   "outputs": [
    {
     "name": "stdout",
     "output_type": "stream",
     "text": [
      "[ 10.   32.5  55.   77.5 100. ]\n"
     ]
    }
   ],
   "source": [
    "j=np.linspace(10,100,5)\n",
    "print(j)"
   ]
  },
  {
   "cell_type": "code",
   "execution_count": 44,
   "id": "01cfdd12-2e9f-4ea2-ada2-2d8e104aa9a5",
   "metadata": {},
   "outputs": [
    {
     "name": "stdout",
     "output_type": "stream",
     "text": [
      "[10 15 20 25 30 35 40 45 50 55 60 65 70 75 80 85 90 95]\n"
     ]
    }
   ],
   "source": [
    "k=np.arange(10,100,5)\n",
    "print(k)"
   ]
  },
  {
   "cell_type": "code",
   "execution_count": 45,
   "id": "067249a1-a68a-408f-b2eb-96813f57124a",
   "metadata": {},
   "outputs": [
    {
     "name": "stdout",
     "output_type": "stream",
     "text": [
      "[10 20 30 40 50]\n"
     ]
    },
    {
     "data": {
      "text/plain": [
       "numpy.ndarray"
      ]
     },
     "execution_count": 45,
     "metadata": {},
     "output_type": "execute_result"
    }
   ],
   "source": [
    "#to convert a list to numpy\n",
    "list2=[10,20,30,40,50]\n",
    "np_array=np.asarray(list2)\n",
    "print(np_array)\n",
    "type(np_array)"
   ]
  },
  {
   "cell_type": "code",
   "execution_count": 46,
   "id": "c22f22de-6fb5-40eb-b18f-123fdc9fa27c",
   "metadata": {},
   "outputs": [
    {
     "name": "stdout",
     "output_type": "stream",
     "text": [
      "[[59 72 21 68 80]\n",
      " [67 18 36 83 37]\n",
      " [29 44 78 47 66]\n",
      " [64 14 80 16 20]\n",
      " [81 45 72 60 62]]\n"
     ]
    }
   ],
   "source": [
    "l=np.random.randint(10,90,(5,5))\n",
    "print(l)"
   ]
  },
  {
   "cell_type": "code",
   "execution_count": 47,
   "id": "923b605a-163c-4f25-a917-fcd35c470d15",
   "metadata": {},
   "outputs": [
    {
     "name": "stdout",
     "output_type": "stream",
     "text": [
      "(5, 5)\n"
     ]
    }
   ],
   "source": [
    "print(l.shape)"
   ]
  },
  {
   "cell_type": "code",
   "execution_count": 48,
   "id": "573fe532-8071-4adb-a64e-a1dac8ba1274",
   "metadata": {},
   "outputs": [
    {
     "name": "stdout",
     "output_type": "stream",
     "text": [
      "2\n"
     ]
    }
   ],
   "source": [
    "print(l.ndim)"
   ]
  },
  {
   "cell_type": "code",
   "execution_count": 49,
   "id": "76f7e662-fedd-4e6c-a50d-7bdd69cbce9e",
   "metadata": {},
   "outputs": [
    {
     "name": "stdout",
     "output_type": "stream",
     "text": [
      "25\n"
     ]
    }
   ],
   "source": [
    "print(l.size)"
   ]
  },
  {
   "cell_type": "code",
   "execution_count": 50,
   "id": "60af6050-5944-4559-9d28-90d83eb4ff9b",
   "metadata": {},
   "outputs": [
    {
     "name": "stdout",
     "output_type": "stream",
     "text": [
      "int32\n"
     ]
    }
   ],
   "source": [
    "print(l.dtype)"
   ]
  },
  {
   "cell_type": "code",
   "execution_count": 51,
   "id": "2641a297-f66e-4182-bcbd-5851fb29fcd8",
   "metadata": {},
   "outputs": [
    {
     "name": "stdout",
     "output_type": "stream",
     "text": [
      "[1, 2, 3, 4, 5, 6, 7, 8, 9, 10]\n"
     ]
    }
   ],
   "source": [
    "#Addition in normal list\n",
    "list1=[1,2,3,4,5]\n",
    "list2=[6,7,8,9,10]\n",
    "print(list1+list2)"
   ]
  },
  {
   "cell_type": "code",
   "execution_count": 52,
   "id": "76be3c1b-bdd3-4f90-9ae4-1f8c69a741b6",
   "metadata": {},
   "outputs": [
    {
     "name": "stdout",
     "output_type": "stream",
     "text": [
      "[[18 11]\n",
      " [10 17]]\n",
      "[[5 6]\n",
      " [2 6]]\n"
     ]
    }
   ],
   "source": [
    "#addition in numpy\n",
    "a=np.random.randint(10,20,(2,2))\n",
    "b=np.random.randint(0,10,(2,2))\n",
    "print(a)\n",
    "print(b)"
   ]
  },
  {
   "cell_type": "code",
   "execution_count": 53,
   "id": "54365a6a-c9a7-4a58-8c8b-2192ec336b1e",
   "metadata": {},
   "outputs": [
    {
     "name": "stdout",
     "output_type": "stream",
     "text": [
      "[[23 17]\n",
      " [12 23]]\n",
      "[[13  5]\n",
      " [ 8 11]]\n",
      "[[3.6        1.83333333]\n",
      " [5.         2.83333333]]\n",
      "[[ 90  66]\n",
      " [ 20 102]]\n"
     ]
    }
   ],
   "source": [
    "print(a+b)\n",
    "print(a-b)\n",
    "print(a/b)\n",
    "print(a*b)\n"
   ]
  },
  {
   "cell_type": "code",
   "execution_count": 54,
   "id": "09cb8708-1c3e-44c4-8899-d64851b88397",
   "metadata": {},
   "outputs": [
    {
     "name": "stdout",
     "output_type": "stream",
     "text": [
      "[[19 11 16]\n",
      " [17 10 17]\n",
      " [11 18 11]]\n",
      "[[1 7 0]\n",
      " [5 2 3]\n",
      " [1 0 1]]\n"
     ]
    }
   ],
   "source": [
    "a=np.random.randint(10,20,(3,3))\n",
    "b=np.random.randint(0,10,(3,3))\n",
    "print(a)\n",
    "print(b)"
   ]
  },
  {
   "cell_type": "code",
   "execution_count": 55,
   "id": "2efbed50-329a-4db4-a06b-db9f57021700",
   "metadata": {},
   "outputs": [
    {
     "name": "stdout",
     "output_type": "stream",
     "text": [
      "[[20 18 16]\n",
      " [22 12 20]\n",
      " [12 18 12]]\n",
      "[[18  4 16]\n",
      " [12  8 14]\n",
      " [10 18 10]]\n",
      "[[19 77  0]\n",
      " [85 20 51]\n",
      " [11  0 11]]\n",
      "[[19.          1.57142857         inf]\n",
      " [ 3.4         5.          5.66666667]\n",
      " [11.                 inf 11.        ]]\n"
     ]
    },
    {
     "name": "stderr",
     "output_type": "stream",
     "text": [
      "C:\\Users\\HP\\AppData\\Local\\Temp\\ipykernel_840\\785049711.py:4: RuntimeWarning: divide by zero encountered in divide\n",
      "  print(np.divide(a,b))\n"
     ]
    }
   ],
   "source": [
    "print(np.add(a,b))\n",
    "print(np.subtract(a,b))\n",
    "print(np.multiply(a,b))\n",
    "print(np.divide(a,b))"
   ]
  },
  {
   "cell_type": "code",
   "execution_count": 56,
   "id": "b38b0342-7d44-4286-92ef-ccc0512d4a07",
   "metadata": {},
   "outputs": [
    {
     "name": "stdout",
     "output_type": "stream",
     "text": [
      "[[9 4 5]\n",
      " [1 5 0]]\n",
      "(2, 3)\n",
      "2\n"
     ]
    }
   ],
   "source": [
    "array=np.random.randint(0,10,(2,3))\n",
    "print(array)\n",
    "print(array.shape)\n",
    "print(array.ndim)"
   ]
  },
  {
   "cell_type": "code",
   "execution_count": 57,
   "id": "1b1c282a-f9ec-4902-a4dc-a108f1fa553e",
   "metadata": {},
   "outputs": [
    {
     "name": "stdout",
     "output_type": "stream",
     "text": [
      "[[9 1]\n",
      " [4 5]\n",
      " [5 0]]\n",
      "(3, 2)\n"
     ]
    }
   ],
   "source": [
    "#transpose of numpy array\n",
    "trans=np.transpose(array)\n",
    "print(trans)\n",
    "print(trans.shape)"
   ]
  },
  {
   "cell_type": "code",
   "execution_count": 58,
   "id": "56d4a7d1-24ea-4fd0-8c3e-5ece66e0277d",
   "metadata": {},
   "outputs": [
    {
     "name": "stdout",
     "output_type": "stream",
     "text": [
      "[[3 3 7]\n",
      " [1 8 6]]\n",
      "(2, 3)\n"
     ]
    }
   ],
   "source": [
    "array=np.random.randint(0,10,(2,3))\n",
    "print(array)\n",
    "print(array.shape)"
   ]
  },
  {
   "cell_type": "code",
   "execution_count": 59,
   "id": "bf14aadc-33d9-4b19-be53-2c4b3e6b8bb6",
   "metadata": {},
   "outputs": [
    {
     "name": "stdout",
     "output_type": "stream",
     "text": [
      "[[3 1]\n",
      " [3 8]\n",
      " [7 6]]\n",
      "(3, 2)\n"
     ]
    }
   ],
   "source": [
    "trans1=array.T\n",
    "print(trans1)\n",
    "print(trans1.shape)"
   ]
  },
  {
   "cell_type": "code",
   "execution_count": 60,
   "id": "7ef8dd0a-c903-49d3-9a0f-74d4c07ab06b",
   "metadata": {},
   "outputs": [
    {
     "name": "stdout",
     "output_type": "stream",
     "text": [
      "[[5 9 8]\n",
      " [6 5 8]]\n",
      "(2, 3)\n"
     ]
    }
   ],
   "source": [
    "#reshaping the array\n",
    "a=np.random.randint(0,10,(2,3))\n",
    "print(a)\n",
    "print(a.shape)"
   ]
  },
  {
   "cell_type": "code",
   "execution_count": 61,
   "id": "475f7f27-11ab-4cff-a42b-b998d24a2770",
   "metadata": {},
   "outputs": [
    {
     "name": "stdout",
     "output_type": "stream",
     "text": [
      "[[5 9]\n",
      " [8 6]\n",
      " [5 8]]\n",
      "(3, 2)\n"
     ]
    }
   ],
   "source": [
    "b=a.reshape(3,2)\n",
    "print(b)\n",
    "print(b.shape)"
   ]
  },
  {
   "cell_type": "code",
   "execution_count": null,
   "id": "d2c31972-ac05-4ac9-87d1-e983740904b7",
   "metadata": {},
   "outputs": [],
   "source": []
  }
 ],
 "metadata": {
  "kernelspec": {
   "display_name": "Python 3 (ipykernel)",
   "language": "python",
   "name": "python3"
  },
  "language_info": {
   "codemirror_mode": {
    "name": "ipython",
    "version": 3
   },
   "file_extension": ".py",
   "mimetype": "text/x-python",
   "name": "python",
   "nbconvert_exporter": "python",
   "pygments_lexer": "ipython3",
   "version": "3.11.7"
  }
 },
 "nbformat": 4,
 "nbformat_minor": 5
}
